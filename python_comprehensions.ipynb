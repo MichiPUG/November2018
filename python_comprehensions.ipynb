{
 "cells": [
  {
   "cell_type": "markdown",
   "metadata": {},
   "source": [
    "# Comprehensions\n",
    "\n",
    "Python3 provides several comprehesion types\n",
    " - list\n",
    " - dict\n",
    " - set\n",
    " \n",
    " Each one is an easy way to create an object of the associated type.\n",
    " \n",
    " \n",
    " "
   ]
  },
  {
   "cell_type": "markdown",
   "metadata": {},
   "source": [
    "## Examples:"
   ]
  },
  {
   "cell_type": "code",
   "execution_count": 62,
   "metadata": {},
   "outputs": [
    {
     "data": {
      "text/plain": [
       "['We',\n",
       " 'will',\n",
       " 'use',\n",
       " 'all',\n",
       " 'the',\n",
       " 'words',\n",
       " 'in',\n",
       " 'this',\n",
       " 'string,',\n",
       " 'when',\n",
       " 'we',\n",
       " 'will',\n",
       " 'create',\n",
       " 'comprehsions']"
      ]
     },
     "execution_count": 62,
     "metadata": {},
     "output_type": "execute_result"
    }
   ],
   "source": [
    "# Define a common input set\n",
    "\n",
    "input = \"We will use all the words in this string, when we will create comprehsions\".split()\n",
    "input"
   ]
  },
  {
   "cell_type": "code",
   "execution_count": 63,
   "metadata": {},
   "outputs": [
    {
     "data": {
      "text/plain": [
       "['will', 'words', 'when', 'we', 'will']"
      ]
     },
     "execution_count": 63,
     "metadata": {},
     "output_type": "execute_result"
    }
   ],
   "source": [
    "# list comprehension\n",
    "[x for x in input if 'w' in x]"
   ]
  },
  {
   "cell_type": "code",
   "execution_count": 64,
   "metadata": {},
   "outputs": [
    {
     "data": {
      "text/plain": [
       "{'all': 3,\n",
       " 'comprehsions': 12,\n",
       " 'create': 6,\n",
       " 'string,': 7,\n",
       " 'the': 3,\n",
       " 'this': 4,\n",
       " 'use': 3,\n",
       " 'when': 4,\n",
       " 'will': 4,\n",
       " 'words': 5}"
      ]
     },
     "execution_count": 64,
     "metadata": {},
     "output_type": "execute_result"
    }
   ],
   "source": [
    "# dict comprehension\n",
    "{x:len(x) for x in input if len(x) > 2}"
   ]
  },
  {
   "cell_type": "code",
   "execution_count": 65,
   "metadata": {},
   "outputs": [
    {
     "data": {
      "text/plain": [
       "{'We',\n",
       " 'all',\n",
       " 'comprehsions',\n",
       " 'create',\n",
       " 'in',\n",
       " 'string,',\n",
       " 'the',\n",
       " 'this',\n",
       " 'use',\n",
       " 'we',\n",
       " 'when',\n",
       " 'will',\n",
       " 'words'}"
      ]
     },
     "execution_count": 65,
     "metadata": {},
     "output_type": "execute_result"
    }
   ],
   "source": [
    "# set comprehension\n",
    "{x for x in input}"
   ]
  },
  {
   "cell_type": "markdown",
   "metadata": {},
   "source": [
    "Each comprehension is of the form:\n",
    "\n",
    "\n",
    "`  <bracket> <output-expression> for <var> in <input-sequence> <for-clause> <close-bracket>`\n",
    "    \n",
    "Where the brackets are \"\\[\" for lists and \"\\{\" for dicts and sets. Dict comprehensions are differentiated by the key:value format of the output expression.\n",
    "```\n",
    "a_dict = {x:y for x,y in z if f(x,y)}\n",
    "a_set = {f2(x) for x in z if f(x)}\n",
    "```\n"
   ]
  },
  {
   "cell_type": "markdown",
   "metadata": {},
   "source": [
    "I actually oversimplified. A comprehension can have multiple for and if clauses."
   ]
  },
  {
   "cell_type": "code",
   "execution_count": 66,
   "metadata": {},
   "outputs": [
    {
     "data": {
      "text/plain": [
       "{'create': 6, 'string,': 7, 'the': 3, 'this': 4}"
      ]
     },
     "execution_count": 66,
     "metadata": {},
     "output_type": "execute_result"
    }
   ],
   "source": [
    "{x:len(x) for x in input if len(x) > 2 if 't' in x}"
   ]
  },
  {
   "cell_type": "markdown",
   "metadata": {},
   "source": [
    "## Nested Comprehensions\n",
    "If we include multiple for clauses, it's often called a nested comprehension, due to the similarity with a nested loop"
   ]
  },
  {
   "cell_type": "code",
   "execution_count": 67,
   "metadata": {},
   "outputs": [
    {
     "data": {
      "text/plain": [
       "['ab', 'ac', 'ad', 'ba', 'bc', 'bd', 'ca', 'cb', 'cd']"
      ]
     },
     "execution_count": 67,
     "metadata": {},
     "output_type": "execute_result"
    }
   ],
   "source": [
    "[ a+b for a in 'abc' for b in 'abcd'if a != b]"
   ]
  },
  {
   "cell_type": "code",
   "execution_count": 68,
   "metadata": {},
   "outputs": [
    {
     "data": {
      "text/plain": [
       "['ab', 'ac', 'ad', 'ba', 'bc', 'bd', 'ca', 'cb', 'cd']"
      ]
     },
     "execution_count": 68,
     "metadata": {},
     "output_type": "execute_result"
    }
   ],
   "source": [
    "# Works like a nested loop\n",
    "\n",
    "x = []\n",
    "for a in 'abc':\n",
    "    for b in 'abcd':\n",
    "        if a != b:\n",
    "            x.append(a+b)\n",
    "x\n"
   ]
  },
  {
   "cell_type": "code",
   "execution_count": 69,
   "metadata": {},
   "outputs": [
    {
     "data": {
      "text/plain": [
       "[3, 7, 11, 15]"
      ]
     },
     "execution_count": 69,
     "metadata": {},
     "output_type": "execute_result"
    }
   ],
   "source": [
    "# A different idea is working on tuples\n",
    "\n",
    "[a+b for a,b in [(1,2), (3,4), (5,6), (7,8)]] # or a,b in my_func_returning_tuples()"
   ]
  },
  {
   "cell_type": "code",
   "execution_count": 70,
   "metadata": {},
   "outputs": [
    {
     "data": {
      "text/plain": [
       "{'all we',\n",
       " 'all when',\n",
       " 'all will',\n",
       " 'all words',\n",
       " 'create we',\n",
       " 'create when',\n",
       " 'create will',\n",
       " 'create words'}"
      ]
     },
     "execution_count": 70,
     "metadata": {},
     "output_type": "execute_result"
    }
   ],
   "source": [
    "# We can have more than one if clause\n",
    "{\" \".join([x,y]) for x in input if \"a\" in x for y in input if 'w' in y}"
   ]
  },
  {
   "cell_type": "code",
   "execution_count": 71,
   "metadata": {},
   "outputs": [
    {
     "data": {
      "text/plain": [
       "{'all we',\n",
       " 'all when',\n",
       " 'all will',\n",
       " 'all words',\n",
       " 'create we',\n",
       " 'create when',\n",
       " 'create will',\n",
       " 'create words'}"
      ]
     },
     "execution_count": 71,
     "metadata": {},
     "output_type": "execute_result"
    }
   ],
   "source": [
    "# After the first for clause, they are optional and can come in any order\n",
    "{\" \".join([x,y]) for x in input for y in input if \"a\" in x if 'w' in y}"
   ]
  },
  {
   "cell_type": "code",
   "execution_count": 72,
   "metadata": {},
   "outputs": [
    {
     "data": {
      "text/plain": [
       "['all will',\n",
       " 'all words',\n",
       " 'all when',\n",
       " 'all we',\n",
       " 'all will',\n",
       " 'create will',\n",
       " 'create words',\n",
       " 'create when',\n",
       " 'create we',\n",
       " 'create will']"
      ]
     },
     "execution_count": 72,
     "metadata": {},
     "output_type": "execute_result"
    }
   ],
   "source": [
    "#  Just like nested loops with the same order\n",
    "z = []\n",
    "for x in input:\n",
    "    for y in input:\n",
    "        if 'a' in x:\n",
    "            if 'w' in y:\n",
    "                z.append(\" \".join([x,y]))\n",
    "z"
   ]
  },
  {
   "cell_type": "code",
   "execution_count": 73,
   "metadata": {},
   "outputs": [
    {
     "data": {
      "text/plain": [
       "('some value out here',\n",
       " [0.5, 0.6, 0.7, 1.0, 1.2, 1.4, 1.5, 1.7999999999999998, 2.0999999999999996])"
      ]
     },
     "execution_count": 73,
     "metadata": {},
     "output_type": "execute_result"
    }
   ],
   "source": [
    "# In python3, the internal variables of the comprehension don't affect outside\n",
    "x = \"some value out here\"\n",
    "y = [x*y for x in (1,2,3) for y in (0.5, 0.6, 0.7)]\n",
    "x, y\n",
    "\n"
   ]
  },
  {
   "cell_type": "code",
   "execution_count": 74,
   "metadata": {},
   "outputs": [
    {
     "data": {
      "text/plain": [
       "<generator object <genexpr> at 0x7f01446b1d00>"
      ]
     },
     "execution_count": 74,
     "metadata": {},
     "output_type": "execute_result"
    }
   ],
   "source": [
    "# Python also has an expression comprehension, which creates a generator\n",
    "z = (i*i for i in range(10))\n",
    "z"
   ]
  },
  {
   "cell_type": "code",
   "execution_count": 75,
   "metadata": {},
   "outputs": [
    {
     "data": {
      "text/plain": [
       "285"
      ]
     },
     "execution_count": 75,
     "metadata": {},
     "output_type": "execute_result"
    }
   ],
   "source": [
    "# But is very convenient in expressions\n",
    "# sum of the first ten squares starting at 0\n",
    "sum(i*i for i in range(10))"
   ]
  },
  {
   "cell_type": "code",
   "execution_count": 76,
   "metadata": {},
   "outputs": [
    {
     "data": {
      "text/plain": [
       "[0, 1, 4, 9, 16, 25, 36, 49, 64, 81]"
      ]
     },
     "execution_count": 76,
     "metadata": {},
     "output_type": "execute_result"
    }
   ],
   "source": [
    "# But can be used to make a list (but then why not use the list comprehension?)\n",
    "list(i*i for i in range(10))"
   ]
  },
  {
   "cell_type": "code",
   "execution_count": 77,
   "metadata": {},
   "outputs": [
    {
     "name": "stdout",
     "output_type": "stream",
     "text": [
      "Message from:Abbie\n",
      "Message from:Sue\n",
      "Message from:Dave\n"
     ]
    },
    {
     "data": {
      "text/plain": [
       "[None, None, None]"
      ]
     },
     "execution_count": 77,
     "metadata": {},
     "output_type": "execute_result"
    }
   ],
   "source": [
    "# Some people use comprensions to make compact loops where they are using the side-effects\n",
    "# Here if I want to print a list of message senders\n",
    "# Note that it is still creating the list, even if you throw it away\n",
    "my_msgs = ['Abbie', 'Sue', 'Dave']\n",
    "[print(\"Message from:{}\".format(x)) for x in my_msgs]\n",
    "# I consider this quite unpythonic, and prefer a loop when you want side effects"
   ]
  },
  {
   "cell_type": "code",
   "execution_count": null,
   "metadata": {},
   "outputs": [],
   "source": []
  }
 ],
 "metadata": {
  "kernelspec": {
   "display_name": "Python 3",
   "language": "python",
   "name": "python3"
  },
  "language_info": {
   "codemirror_mode": {
    "name": "ipython",
    "version": 3
   },
   "file_extension": ".py",
   "mimetype": "text/x-python",
   "name": "python",
   "nbconvert_exporter": "python",
   "pygments_lexer": "ipython3",
   "version": "3.5.2"
  }
 },
 "nbformat": 4,
 "nbformat_minor": 2
}
